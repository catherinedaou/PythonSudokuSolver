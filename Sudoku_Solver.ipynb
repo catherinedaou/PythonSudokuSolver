{
  "nbformat": 4,
  "nbformat_minor": 0,
  "metadata": {
    "colab": {
      "name": "Sudoku Solver.ipynb",
      "provenance": [],
      "collapsed_sections": []
    },
    "kernelspec": {
      "name": "python3",
      "display_name": "Python 3"
    }
  },
  "cells": [
    {
      "cell_type": "code",
      "metadata": {
        "id": "vRZ-kyvNAMHh",
        "colab": {
          "base_uri": "https://localhost:8080/",
          "height": 168
        },
        "outputId": "a9bce815-bbeb-414a-8a67-ad730d27cbbc"
      },
      "source": [
        "!pip install python-constraint"
      ],
      "execution_count": null,
      "outputs": [
        {
          "output_type": "stream",
          "text": [
            "Collecting python-constraint\n",
            "  Downloading https://files.pythonhosted.org/packages/37/8b/5f1bc2734ca611943e1d6733ee244238679f6410a10cd45ede55a61a8402/python-constraint-1.4.0.tar.bz2\n",
            "Building wheels for collected packages: python-constraint\n",
            "  Building wheel for python-constraint (setup.py) ... \u001b[?25l\u001b[?25hdone\n",
            "  Created wheel for python-constraint: filename=python_constraint-1.4.0-py2.py3-none-any.whl size=24080 sha256=a1fc980f63599861d2f9ca0d0b34748a75230b19607e79b5462e9b8abd3297b2\n",
            "  Stored in directory: /root/.cache/pip/wheels/34/31/15/7b070b25d0a549d20ce2e9fe6d727471c2c61ef904720fd40c\n",
            "Successfully built python-constraint\n",
            "Installing collected packages: python-constraint\n",
            "Successfully installed python-constraint-1.4.0\n"
          ],
          "name": "stdout"
        }
      ]
    },
    {
      "cell_type": "code",
      "metadata": {
        "id": "_69Z_1iHASna"
      },
      "source": [
        "#Sudoku Solver with constraint module\n",
        "import constraint\n",
        "\n",
        "def sudoku(puzzle):\n",
        "    \"\"\"return the solved puzzle as a 2d array of 9 x 9\"\"\"\n",
        "    problem = constraint.Problem()\n",
        "\n",
        "    # We're letting VARIABLES 11 through 99 have an interval of [1..9]\n",
        "    for i in range(1, 10):\n",
        "        problem.addVariables(range(i * 10 + 1, i * 10 + 10), range(1, 10))\n",
        "\n",
        "    # We're adding the constraint that all values in a row must be different\n",
        "    for i in range(1, 10):\n",
        "        problem.addConstraint(constraint.AllDifferentConstraint(), range(i * 10 + 1, i * 10 + 10))\n",
        "\n",
        "    # Also all values in a column must be different\n",
        "    for i in range(1, 10):\n",
        "        problem.addConstraint(constraint.AllDifferentConstraint(), range(10 + i, 100 + i, 10))\n",
        "\n",
        "    # The last rule in a sudoku 9x9 puzzle is that those nine 3x3 squares must have all different values,\n",
        "    for i in [1,4,7]:\n",
        "        for j in [1,4,7]:\n",
        "            square = [10*i+j,10*i+j+1,10*i+j+2,10*(i+1)+j,10*(i+1)+j+1,10*(i+1)+j+2,10*(i+2)+j,10*(i+2)+j+1,10*(i+2)+j+2]\n",
        "            problem.addConstraint(constraint.AllDifferentConstraint(), square)\n",
        "    \n",
        "    # We're adding a constraint for each number on the board (0 is an \"empty\" cell),\n",
        "    # Since they're already solved, we don't need to solve them\n",
        "    for i in range(9):\n",
        "        for j in range(9):\n",
        "            if puzzle[i][j] != 0:\n",
        "                def c(variable_value, value_in_table = puzzle[i][j]):\n",
        "                    if variable_value == value_in_table:\n",
        "                        return True\n",
        "                problem.addConstraint(c, [((i+1)*10 + (j+1))])\n",
        "\n",
        "    solutions = problem.getSolutions()\n",
        "    \n",
        "    for s in solutions:\n",
        "        for i in range(9):\n",
        "            for j in range(9):\n",
        "                puzzle[i][j] = s[(i+1)*10+(j+1)]\n",
        "        \n",
        "    return puzzle"
      ],
      "execution_count": null,
      "outputs": []
    },
    {
      "cell_type": "code",
      "metadata": {
        "id": "U_7k7GCTAs5h",
        "colab": {
          "base_uri": "https://localhost:8080/",
          "height": 168
        },
        "outputId": "bbe87f59-5151-4dff-e223-82bda3276d2a"
      },
      "source": [
        "solve = [[5,3,0,0,7,0,0,0,0],\n",
        "          [6,0,0,1,9,5,0,0,0],\n",
        "          [0,9,8,0,0,0,0,6,0],\n",
        "          [8,0,0,0,6,0,0,0,3],\n",
        "          [4,0,0,8,0,3,0,0,1],\n",
        "          [7,0,0,0,2,0,0,0,6],\n",
        "          [0,6,0,0,0,0,2,8,0],\n",
        "          [0,0,0,4,1,9,0,0,5],\n",
        "          [0,0,0,0,8,0,0,7,9]]\n",
        "\n",
        "sudoku(solve)"
      ],
      "execution_count": null,
      "outputs": [
        {
          "output_type": "execute_result",
          "data": {
            "text/plain": [
              "[[5, 3, 4, 6, 7, 8, 9, 1, 2],\n",
              " [6, 7, 2, 1, 9, 5, 3, 4, 8],\n",
              " [1, 9, 8, 3, 4, 2, 5, 6, 7],\n",
              " [8, 5, 9, 7, 6, 1, 4, 2, 3],\n",
              " [4, 2, 6, 8, 5, 3, 7, 9, 1],\n",
              " [7, 1, 3, 9, 2, 4, 8, 5, 6],\n",
              " [9, 6, 1, 5, 3, 7, 2, 8, 4],\n",
              " [2, 8, 7, 4, 1, 9, 6, 3, 5],\n",
              " [3, 4, 5, 2, 8, 6, 1, 7, 9]]"
            ]
          },
          "metadata": {
            "tags": []
          },
          "execution_count": 9
        }
      ]
    },
    {
      "cell_type": "code",
      "metadata": {
        "id": "joTKJBN5FYta"
      },
      "source": [
        "#Sudoku solver with backtracking\n",
        "def sudoku(puzzle):\n",
        "    solve(puzzle)\n",
        "    return puzzle\n",
        "\n",
        "def solve(puzzle):\n",
        "    find = find_empty(puzzle)\n",
        "    if not find:\n",
        "        return True\n",
        "    else:\n",
        "        row, col = find\n",
        "    \n",
        "    for i in range(1, 10):\n",
        "        if is_valid(puzzle, i, (row, col)):\n",
        "            puzzle[row][col] = i\n",
        "            \n",
        "            if solve(puzzle):\n",
        "                return True\n",
        "            \n",
        "            puzzle[row][col] = 0\n",
        "            \n",
        "    return False                \n",
        "\n",
        "\n",
        "def find_empty(board):\n",
        "    for i in range(9):\n",
        "        for j in range(9):\n",
        "            if board[i][j] == 0:\n",
        "                return (i, j)  # row, col\n",
        "\n",
        "    return None\n",
        "    \n",
        "def is_valid(board, num, pos):\n",
        "    #check row\n",
        "    for i in range(9):\n",
        "        if board[pos[0]][i] == num and pos[1] != i:\n",
        "            return False\n",
        "            \n",
        "    #check column\n",
        "    for i in range(9):\n",
        "        if board[i][pos[1]] == num and pos[0] != i:\n",
        "            return False\n",
        "            \n",
        "    #check 3x3 squares\n",
        "    box_x = pos[1] // 3\n",
        "    box_y = pos[0] // 3\n",
        "    \n",
        "    for i in range(box_y*3, box_y*3 + 3):\n",
        "        for j in range(box_x*3, box_x*3 + 3):\n",
        "            if board[i][j] == num and (i, j)!= pos:\n",
        "                return False\n",
        "    \n",
        "    return True"
      ],
      "execution_count": null,
      "outputs": []
    },
    {
      "cell_type": "code",
      "metadata": {
        "id": "LoETL_ftYZqj",
        "colab": {
          "base_uri": "https://localhost:8080/",
          "height": 168
        },
        "outputId": "d711d9e4-d741-4712-be87-7e0e52bc3a6a"
      },
      "source": [
        "to_solve = [[5,3,0,0,7,0,0,0,0],\n",
        "          [6,0,0,1,9,5,0,0,0],\n",
        "          [0,9,8,0,0,0,0,6,0],\n",
        "          [8,0,0,0,6,0,0,0,3],\n",
        "          [4,0,0,8,0,3,0,0,1],\n",
        "          [7,0,0,0,2,0,0,0,6],\n",
        "          [0,6,0,0,0,0,2,8,0],\n",
        "          [0,0,0,4,1,9,0,0,5],\n",
        "          [0,0,0,0,8,0,0,7,9]]\n",
        "\n",
        "sudoku(to_solve)"
      ],
      "execution_count": null,
      "outputs": [
        {
          "output_type": "execute_result",
          "data": {
            "text/plain": [
              "[[5, 3, 4, 6, 7, 8, 9, 1, 2],\n",
              " [6, 7, 2, 1, 9, 5, 3, 4, 8],\n",
              " [1, 9, 8, 3, 4, 2, 5, 6, 7],\n",
              " [8, 5, 9, 7, 6, 1, 4, 2, 3],\n",
              " [4, 2, 6, 8, 5, 3, 7, 9, 1],\n",
              " [7, 1, 3, 9, 2, 4, 8, 5, 6],\n",
              " [9, 6, 1, 5, 3, 7, 2, 8, 4],\n",
              " [2, 8, 7, 4, 1, 9, 6, 3, 5],\n",
              " [3, 4, 5, 2, 8, 6, 1, 7, 9]]"
            ]
          },
          "metadata": {
            "tags": []
          },
          "execution_count": 5
        }
      ]
    },
    {
      "cell_type": "code",
      "metadata": {
        "id": "bfj9c-j-YdSm"
      },
      "source": [
        ""
      ],
      "execution_count": null,
      "outputs": []
    }
  ]
}